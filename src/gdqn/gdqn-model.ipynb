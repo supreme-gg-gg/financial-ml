{
 "cells": [
  {
   "cell_type": "code",
   "execution_count": 1,
   "metadata": {},
   "outputs": [
    {
     "name": "stdout",
     "output_type": "stream",
     "text": [
      "Agent Module Loaded\n"
     ]
    }
   ],
   "source": [
    "import gymnasium as gym, torch\n",
    "import matplotlib.pyplot as plt\n",
    "from agent import *\n",
    "from utils.helper import plot_durations\n",
    "import utils.envs"
   ]
  },
  {
   "cell_type": "code",
   "execution_count": null,
   "metadata": {},
   "outputs": [
    {
     "name": "stdout",
     "output_type": "stream",
     "text": [
      "Environment imported successfully\n"
     ]
    }
   ],
   "source": [
    "# We will use neural network, optmization, and auto differentiation from PyTorch\n",
    "\n",
    "# We will also build custom environment later on, but for now we will use CartPole-v1\n",
    "\n",
    "env = gym.make('trading-v0')\n",
    "\n",
    "device = torch.device(\n",
    "    \"cuda\" if torch.cuda.is_available() else\n",
    "    \"mps\" if torch.backends.mps.is_available() else \"cpu\"\n",
    ")\n",
    "\n",
    "num_episodes = 7 # We have 7 years of data in training and 3 years in testing\n",
    "\n",
    "agent = DQNAgent(env, device)\n",
    "\n",
    "episode_durations = agent.train_agent(num_episodes)\n",
    "\n",
    "# we can decide if we want to modularize this as well, but probably no?\n",
    "# if yes we will add it to the DQNAgent.train_agent() method\n",
    "print(\"Complete\")\n",
    "plot_durations(episode_durations, show_result=True)\n",
    "plt.ioff()\n",
    "plt.show()"
   ]
  }
 ],
 "metadata": {
  "kernelspec": {
   "display_name": "Python (myenv)",
   "language": "python",
   "name": "myenv"
  },
  "language_info": {
   "codemirror_mode": {
    "name": "ipython",
    "version": 3
   },
   "file_extension": ".py",
   "mimetype": "text/x-python",
   "name": "python",
   "nbconvert_exporter": "python",
   "pygments_lexer": "ipython3",
   "version": "3.12.4"
  }
 },
 "nbformat": 4,
 "nbformat_minor": 4
}
