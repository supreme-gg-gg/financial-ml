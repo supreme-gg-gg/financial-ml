{
  "nbformat": 4,
  "nbformat_minor": 0,
  "metadata": {
    "colab": {
      "provenance": []
    },
    "kernelspec": {
      "name": "python3",
      "display_name": "Python 3"
    },
    "language_info": {
      "name": "python"
    }
  },
  "cells": [
    {
      "cell_type": "markdown",
      "source": [
        "### Training Script for CNN\n",
        "\n",
        "The original Python script is adapted to a Jupyter Notebook to be trained and tested on Google Colab. The deployment of the model should not rely on this Notebook as it is inconsistent with the design of the system."
      ],
      "metadata": {
        "id": "J3vIFmSkeiMI"
      }
    },
    {
      "cell_type": "code",
      "source": [
        "STOCK_NAME = \"MSFT\" # Change this before runnign\n",
        "SAVE_MODEL = False # Testing mode"
      ],
      "metadata": {
        "id": "Y5BK-49kX0Eo"
      },
      "execution_count": 68,
      "outputs": []
    },
    {
      "cell_type": "code",
      "execution_count": 1,
      "metadata": {
        "id": "nksDRHFBUR7S"
      },
      "outputs": [],
      "source": [
        "import tensorflow as tf\n",
        "from tensorflow.keras.models import Sequential\n",
        "from tensorflow.keras.layers import Conv1D, MaxPooling1D, Flatten, Dense, LSTM, Dropout\n",
        "from tensorflow.keras.optimizers import Adam\n",
        "from sklearn.preprocessing import MinMaxScaler\n",
        "from sklearn.model_selection import train_test_split\n",
        "import pandas as pd\n",
        "import numpy as np\n",
        "\n",
        "import matplotlib\n",
        "# matplotlib.use('TkAgg')\n",
        "\n",
        "import matplotlib.pyplot as plt"
      ]
    },
    {
      "cell_type": "code",
      "source": [
        "import pandas as pd, numpy as np\n",
        "from sklearn.preprocessing import MinMaxScaler\n",
        "from sklearn.model_selection import train_test_split"
      ],
      "metadata": {
        "id": "bnvs57_4JD0f"
      },
      "execution_count": 1,
      "outputs": []
    },
    {
      "cell_type": "markdown",
      "source": [
        "### Custom Data Loading\n",
        "\n",
        "Since this is just built as a training trigger, we do not intend to include complicated data processing helper functions. The `get_data` function is based on a function in helper.py but has been heavily modified to **work only in this specific context**."
      ],
      "metadata": {
        "id": "KvyYZW9jTJui"
      }
    },
    {
      "cell_type": "code",
      "source": [
        "def get_data(stock, scale=True):\n",
        "\n",
        "    '''\n",
        "    This modified version is only meant to work\n",
        "    as a compromise for the CNN training notebook.\n",
        "    It is designed to work well with CSV formats\n",
        "    from Yahoo Finance API as well as Nasdaq\n",
        "    '''\n",
        "\n",
        "    df = pd.read_csv(f\"{stock}.csv\", header=0)\n",
        "    df = df[1:].reset_index(drop=True) # drop the first row\n",
        "    df.columns = df.columns.str.strip()\n",
        "\n",
        "    # This parse dates in both 2024-09-11 and 09/11/2024 formats dynamically\n",
        "    if df[\"Date\"].dtype != \"datetime64[ns]\":\n",
        "        # First, try parsing the default format (ISO 8601: YYYY-MM-DD)\n",
        "        df['Date'] = pd.to_datetime(df['Date'], errors='coerce')\n",
        "\n",
        "        # If any dates failed to parse, they will be NaT, so try parsing MM/DD/YYYY format for those\n",
        "        if df['Date'].isna().any():\n",
        "            df['Date'] = df['Date'].fillna(pd.to_datetime(df['Date'], format='%m/%d/%Y', errors='coerce'))\n",
        "\n",
        "    # Handle certain csv with $ symbol before number\n",
        "    for col in df.columns:\n",
        "\n",
        "        if df[col].dtype == \"object\":\n",
        "          df[col] = df[col].replace('[\\$,]', '', regex=True).astype(float)\n",
        "\n",
        "        # If adjusted closing is available it is preferred\n",
        "        # Rename Adj Close to Close to make future references simpler\n",
        "        if col == \"Adj Close\":\n",
        "          df.drop(columns=[\"Close\"], inplace=True)\n",
        "          df.rename(columns={\"Adj Close\": \"Close\"}, inplace=True)\n",
        "\n",
        "        elif col == \"Volume\":\n",
        "          df.drop(columns=[\"Volume\"], inplace=True)\n",
        "\n",
        "        elif col == \"Date\" and df.index.name != \"Date\":\n",
        "          df.index.name = \"Date\"\n",
        "          df.set_index(\"Date\", inplace=True)\n",
        "\n",
        "        elif col == \"Close/Last\":\n",
        "          df.rename(columns={\"Close/Last\": \"Close\"}, inplace=True)\n",
        "\n",
        "    df['Return'] = df[\"Close\"].pct_change()\n",
        "    df[\"SMA\"] = df[\"Close\"].rolling(15).mean().shift()\n",
        "    df[\"EMA\"] = df[\"Close\"].ewm(5).mean().shift()\n",
        "\n",
        "    R = df.Return\n",
        "    if scale:\n",
        "        mean = df.mean(axis=0)\n",
        "        std = df.std(axis=0)\n",
        "        df = (df - mean) / std\n",
        "    df['Return'] = R # Return is not scaled\n",
        "\n",
        "    # The first 15 rows are removed as they contain NaN values\n",
        "    # due to the computation of technical indicators\n",
        "\n",
        "    return df[15:]\n"
      ],
      "metadata": {
        "id": "DaBJ6gTddLAC"
      },
      "execution_count": 51,
      "outputs": []
    },
    {
      "cell_type": "code",
      "source": [
        "# Load the stock data\n",
        "# data = pd.read_csv('AAPL_raw.csv', index_col='Date', parse_dates=True)\n",
        "# data = get_data(\"GOOG\", scale=False)\n",
        "\n",
        "data = get_data(STOCK_NAME, scale=False)\n",
        "\n",
        "# For this particular setup we don't use volumne nor return\n",
        "labels = data[\"Close\"].dropna()\n",
        "data.drop(columns=[\"Return\", \"Close\"], inplace=True)\n",
        "\n",
        "print(data.head())\n",
        "print(labels.head())\n",
        "\n",
        "# Normalize the data\n",
        "scaler = MinMaxScaler(feature_range=(0, 1))\n",
        "\n",
        "close_scaler = MinMaxScaler(feature_range=(0, 1))\n",
        "close_scaler.fit(labels.values.reshape(-1, 1))\n",
        "\n",
        "data = scaler.fit_transform(data)\n",
        "labels = scaler.fit_transform(labels.values.reshape(-1, 1))\n",
        "\n",
        "# Create the training and testing datasets\n",
        "train_data, test_data, train_labels, test_labels = train_test_split(data, labels, test_size=0.4, train_size=0.6, shuffle=False)\n",
        "test_data, val_data, test_labels, val_labels = train_test_split(test_data, test_labels, test_size=0.5, train_size=0.5, shuffle=False)"
      ],
      "metadata": {
        "colab": {
          "base_uri": "https://localhost:8080/"
        },
        "id": "J3gmjfHPcmgo",
        "outputId": "5b6d8fba-f8a4-45c8-d210-c73c91f57134"
      },
      "execution_count": 69,
      "outputs": [
        {
          "output_type": "stream",
          "name": "stdout",
          "text": [
            "              Open    High       Low         SMA         EMA\n",
            "Date                                                        \n",
            "2024-08-16  420.60  421.34  417.3000  413.676667  417.772176\n",
            "2024-08-15  419.80  421.11  417.6600  414.526667  417.895131\n",
            "2024-08-14  414.80  417.72  412.4456  415.815333  418.442270\n",
            "2024-08-13  409.59  414.95  409.5700  416.380000  418.168267\n",
            "2024-08-12  407.06  408.76  404.2434  416.720667  417.452828\n",
            "Date\n",
            "2024-08-16    418.47\n",
            "2024-08-15    421.03\n",
            "2024-08-14    416.86\n",
            "2024-08-13    414.01\n",
            "2024-08-12    406.81\n",
            "Name: Close, dtype: float64\n"
          ]
        }
      ]
    },
    {
      "cell_type": "code",
      "source": [
        "print(train_data.shape)\n",
        "print(test_data.shape)\n",
        "print(train_labels.shape)\n",
        "print(test_labels.shape)\n",
        "print(val_data.shape)\n",
        "print(val_labels.shape)\n",
        "\n",
        "print(train_data[0])\n",
        "print(train_labels[0])"
      ],
      "metadata": {
        "colab": {
          "base_uri": "https://localhost:8080/"
        },
        "id": "f82UY5KkRug4",
        "outputId": "fb3baeaa-1413-4abc-9f81-6ebec617d60f"
      },
      "execution_count": 61,
      "outputs": [
        {
          "output_type": "stream",
          "name": "stdout",
          "text": [
            "(745, 5)\n",
            "(248, 5)\n",
            "(745, 1)\n",
            "(248, 1)\n",
            "(249, 5)\n",
            "(249, 1)\n",
            "[0.97689433 0.97977241 0.99159607 0.98592353 0.99434409]\n",
            "[0.97230599]\n"
          ]
        }
      ]
    },
    {
      "cell_type": "code",
      "source": [
        "# Create the training and testing sequences\n",
        "def create_sequences(data, labels, seq_length):\n",
        "    X = []\n",
        "    y = []\n",
        "    for i in range(len(data) - seq_length - 1):\n",
        "        _x = data[i:(i + seq_length)]\n",
        "        _y = labels[i + seq_length]\n",
        "        X.append(_x)\n",
        "        y.append(_y)\n",
        "    return np.array(X), np.array(y)\n",
        "\n",
        "seq_length = 10 # Two weeks of sequential data\n",
        "\n",
        "# train_X will be a 3D array and train_y a 2D array\n",
        "train_X, train_y = create_sequences(train_data, train_labels, seq_length)\n",
        "test_X, test_y = create_sequences(test_data, test_labels, seq_length)\n",
        "val_X, val_y = create_sequences(val_data, val_labels, seq_length)"
      ],
      "metadata": {
        "id": "jcGBTnC-cr7B"
      },
      "execution_count": 70,
      "outputs": []
    },
    {
      "cell_type": "code",
      "source": [
        "print(train_X[0])\n",
        "print(train_y[0])"
      ],
      "metadata": {
        "colab": {
          "base_uri": "https://localhost:8080/"
        },
        "id": "B4_XuNy2Rw2e",
        "outputId": "feeb5569-756f-485b-97e1-54de624ea13e"
      },
      "execution_count": 63,
      "outputs": [
        {
          "output_type": "stream",
          "name": "stdout",
          "text": [
            "[[0.97689433 0.97977241 0.99159607 0.98592353 0.99434409]\n",
            " [0.97665112 0.99327958 0.99622959 0.98947957 0.99522491]\n",
            " [0.96840383 0.98052403 0.98812093 0.99530313 0.99996922]\n",
            " [0.95060473 0.97499715 0.97680968 0.9968588  0.9995948 ]\n",
            " [0.94363986 0.94519759 0.95625412 0.99934159 1.        ]\n",
            " [0.92340858 0.94590501 0.94853158 1.         0.99531923]\n",
            " [0.90083357 0.92737963 0.92359234 0.99944373 0.99217839]\n",
            " [0.91328189 0.92779965 0.90573966 0.99809391 0.98636651]\n",
            " [0.8599288  0.9110207  0.88709201 0.99371603 0.97339942]\n",
            " [0.7987817  0.8688412  0.82383537 0.98978599 0.96468507]]\n",
            "[0.88521064]\n"
          ]
        }
      ]
    },
    {
      "cell_type": "code",
      "source": [
        "def create_model(n_features):\n",
        "\n",
        "    # Define the CNN-DNN model\n",
        "    model = Sequential()\n",
        "    model.add(Conv1D(filters=64, kernel_size=3, activation='relu', input_shape=(seq_length, n_features)))\n",
        "    model.add(MaxPooling1D(pool_size=2))\n",
        "    model.add(Conv1D(filters=128, kernel_size=3, activation='relu'))\n",
        "    model.add(MaxPooling1D(pool_size=2))\n",
        "    model.add(Flatten())\n",
        "    model.add(Dense(256, activation='relu'))  # Increased number of units\n",
        "    model.add(Dropout(0.2))\n",
        "    model.add(Dense(128, activation='relu'))  # Added another dense layer\n",
        "    model.add(Dense(1, activation='linear'))\n",
        "\n",
        "    # Compile the model\n",
        "    model.compile(optimizer=Adam(learning_rate=0.0001), loss='mse')  # Reduced learning rate\n",
        "\n",
        "    return model\n",
        "\n",
        "model = create_model(5)\n",
        "\n",
        "print(model.summary())"
      ],
      "metadata": {
        "colab": {
          "base_uri": "https://localhost:8080/",
          "height": 488
        },
        "id": "8cRD9DDmc4Fd",
        "outputId": "546c3dc9-efd0-4619-8fb1-d3145efbf45d"
      },
      "execution_count": 45,
      "outputs": [
        {
          "output_type": "stream",
          "name": "stderr",
          "text": [
            "/usr/local/lib/python3.10/dist-packages/keras/src/layers/convolutional/base_conv.py:107: UserWarning: Do not pass an `input_shape`/`input_dim` argument to a layer. When using Sequential models, prefer using an `Input(shape)` object as the first layer in the model instead.\n",
            "  super().__init__(activity_regularizer=activity_regularizer, **kwargs)\n"
          ]
        },
        {
          "output_type": "display_data",
          "data": {
            "text/plain": [
              "\u001b[1mModel: \"sequential_3\"\u001b[0m\n"
            ],
            "text/html": [
              "<pre style=\"white-space:pre;overflow-x:auto;line-height:normal;font-family:Menlo,'DejaVu Sans Mono',consolas,'Courier New',monospace\"><span style=\"font-weight: bold\">Model: \"sequential_3\"</span>\n",
              "</pre>\n"
            ]
          },
          "metadata": {}
        },
        {
          "output_type": "display_data",
          "data": {
            "text/plain": [
              "┏━━━━━━━━━━━━━━━━━━━━━━━━━━━━━━━━━━━━━━┳━━━━━━━━━━━━━━━━━━━━━━━━━━━━━┳━━━━━━━━━━━━━━━━━┓\n",
              "┃\u001b[1m \u001b[0m\u001b[1mLayer (type)                        \u001b[0m\u001b[1m \u001b[0m┃\u001b[1m \u001b[0m\u001b[1mOutput Shape               \u001b[0m\u001b[1m \u001b[0m┃\u001b[1m \u001b[0m\u001b[1m        Param #\u001b[0m\u001b[1m \u001b[0m┃\n",
              "┡━━━━━━━━━━━━━━━━━━━━━━━━━━━━━━━━━━━━━━╇━━━━━━━━━━━━━━━━━━━━━━━━━━━━━╇━━━━━━━━━━━━━━━━━┩\n",
              "│ conv1d_4 (\u001b[38;5;33mConv1D\u001b[0m)                    │ (\u001b[38;5;45mNone\u001b[0m, \u001b[38;5;34m8\u001b[0m, \u001b[38;5;34m64\u001b[0m)               │           \u001b[38;5;34m1,024\u001b[0m │\n",
              "├──────────────────────────────────────┼─────────────────────────────┼─────────────────┤\n",
              "│ max_pooling1d_4 (\u001b[38;5;33mMaxPooling1D\u001b[0m)       │ (\u001b[38;5;45mNone\u001b[0m, \u001b[38;5;34m4\u001b[0m, \u001b[38;5;34m64\u001b[0m)               │               \u001b[38;5;34m0\u001b[0m │\n",
              "├──────────────────────────────────────┼─────────────────────────────┼─────────────────┤\n",
              "│ conv1d_5 (\u001b[38;5;33mConv1D\u001b[0m)                    │ (\u001b[38;5;45mNone\u001b[0m, \u001b[38;5;34m2\u001b[0m, \u001b[38;5;34m128\u001b[0m)              │          \u001b[38;5;34m24,704\u001b[0m │\n",
              "├──────────────────────────────────────┼─────────────────────────────┼─────────────────┤\n",
              "│ max_pooling1d_5 (\u001b[38;5;33mMaxPooling1D\u001b[0m)       │ (\u001b[38;5;45mNone\u001b[0m, \u001b[38;5;34m1\u001b[0m, \u001b[38;5;34m128\u001b[0m)              │               \u001b[38;5;34m0\u001b[0m │\n",
              "├──────────────────────────────────────┼─────────────────────────────┼─────────────────┤\n",
              "│ flatten_2 (\u001b[38;5;33mFlatten\u001b[0m)                  │ (\u001b[38;5;45mNone\u001b[0m, \u001b[38;5;34m128\u001b[0m)                 │               \u001b[38;5;34m0\u001b[0m │\n",
              "├──────────────────────────────────────┼─────────────────────────────┼─────────────────┤\n",
              "│ dense_6 (\u001b[38;5;33mDense\u001b[0m)                      │ (\u001b[38;5;45mNone\u001b[0m, \u001b[38;5;34m256\u001b[0m)                 │          \u001b[38;5;34m33,024\u001b[0m │\n",
              "├──────────────────────────────────────┼─────────────────────────────┼─────────────────┤\n",
              "│ dropout_2 (\u001b[38;5;33mDropout\u001b[0m)                  │ (\u001b[38;5;45mNone\u001b[0m, \u001b[38;5;34m256\u001b[0m)                 │               \u001b[38;5;34m0\u001b[0m │\n",
              "├──────────────────────────────────────┼─────────────────────────────┼─────────────────┤\n",
              "│ dense_7 (\u001b[38;5;33mDense\u001b[0m)                      │ (\u001b[38;5;45mNone\u001b[0m, \u001b[38;5;34m128\u001b[0m)                 │          \u001b[38;5;34m32,896\u001b[0m │\n",
              "├──────────────────────────────────────┼─────────────────────────────┼─────────────────┤\n",
              "│ dense_8 (\u001b[38;5;33mDense\u001b[0m)                      │ (\u001b[38;5;45mNone\u001b[0m, \u001b[38;5;34m1\u001b[0m)                   │             \u001b[38;5;34m129\u001b[0m │\n",
              "└──────────────────────────────────────┴─────────────────────────────┴─────────────────┘\n"
            ],
            "text/html": [
              "<pre style=\"white-space:pre;overflow-x:auto;line-height:normal;font-family:Menlo,'DejaVu Sans Mono',consolas,'Courier New',monospace\">┏━━━━━━━━━━━━━━━━━━━━━━━━━━━━━━━━━━━━━━┳━━━━━━━━━━━━━━━━━━━━━━━━━━━━━┳━━━━━━━━━━━━━━━━━┓\n",
              "┃<span style=\"font-weight: bold\"> Layer (type)                         </span>┃<span style=\"font-weight: bold\"> Output Shape                </span>┃<span style=\"font-weight: bold\">         Param # </span>┃\n",
              "┡━━━━━━━━━━━━━━━━━━━━━━━━━━━━━━━━━━━━━━╇━━━━━━━━━━━━━━━━━━━━━━━━━━━━━╇━━━━━━━━━━━━━━━━━┩\n",
              "│ conv1d_4 (<span style=\"color: #0087ff; text-decoration-color: #0087ff\">Conv1D</span>)                    │ (<span style=\"color: #00d7ff; text-decoration-color: #00d7ff\">None</span>, <span style=\"color: #00af00; text-decoration-color: #00af00\">8</span>, <span style=\"color: #00af00; text-decoration-color: #00af00\">64</span>)               │           <span style=\"color: #00af00; text-decoration-color: #00af00\">1,024</span> │\n",
              "├──────────────────────────────────────┼─────────────────────────────┼─────────────────┤\n",
              "│ max_pooling1d_4 (<span style=\"color: #0087ff; text-decoration-color: #0087ff\">MaxPooling1D</span>)       │ (<span style=\"color: #00d7ff; text-decoration-color: #00d7ff\">None</span>, <span style=\"color: #00af00; text-decoration-color: #00af00\">4</span>, <span style=\"color: #00af00; text-decoration-color: #00af00\">64</span>)               │               <span style=\"color: #00af00; text-decoration-color: #00af00\">0</span> │\n",
              "├──────────────────────────────────────┼─────────────────────────────┼─────────────────┤\n",
              "│ conv1d_5 (<span style=\"color: #0087ff; text-decoration-color: #0087ff\">Conv1D</span>)                    │ (<span style=\"color: #00d7ff; text-decoration-color: #00d7ff\">None</span>, <span style=\"color: #00af00; text-decoration-color: #00af00\">2</span>, <span style=\"color: #00af00; text-decoration-color: #00af00\">128</span>)              │          <span style=\"color: #00af00; text-decoration-color: #00af00\">24,704</span> │\n",
              "├──────────────────────────────────────┼─────────────────────────────┼─────────────────┤\n",
              "│ max_pooling1d_5 (<span style=\"color: #0087ff; text-decoration-color: #0087ff\">MaxPooling1D</span>)       │ (<span style=\"color: #00d7ff; text-decoration-color: #00d7ff\">None</span>, <span style=\"color: #00af00; text-decoration-color: #00af00\">1</span>, <span style=\"color: #00af00; text-decoration-color: #00af00\">128</span>)              │               <span style=\"color: #00af00; text-decoration-color: #00af00\">0</span> │\n",
              "├──────────────────────────────────────┼─────────────────────────────┼─────────────────┤\n",
              "│ flatten_2 (<span style=\"color: #0087ff; text-decoration-color: #0087ff\">Flatten</span>)                  │ (<span style=\"color: #00d7ff; text-decoration-color: #00d7ff\">None</span>, <span style=\"color: #00af00; text-decoration-color: #00af00\">128</span>)                 │               <span style=\"color: #00af00; text-decoration-color: #00af00\">0</span> │\n",
              "├──────────────────────────────────────┼─────────────────────────────┼─────────────────┤\n",
              "│ dense_6 (<span style=\"color: #0087ff; text-decoration-color: #0087ff\">Dense</span>)                      │ (<span style=\"color: #00d7ff; text-decoration-color: #00d7ff\">None</span>, <span style=\"color: #00af00; text-decoration-color: #00af00\">256</span>)                 │          <span style=\"color: #00af00; text-decoration-color: #00af00\">33,024</span> │\n",
              "├──────────────────────────────────────┼─────────────────────────────┼─────────────────┤\n",
              "│ dropout_2 (<span style=\"color: #0087ff; text-decoration-color: #0087ff\">Dropout</span>)                  │ (<span style=\"color: #00d7ff; text-decoration-color: #00d7ff\">None</span>, <span style=\"color: #00af00; text-decoration-color: #00af00\">256</span>)                 │               <span style=\"color: #00af00; text-decoration-color: #00af00\">0</span> │\n",
              "├──────────────────────────────────────┼─────────────────────────────┼─────────────────┤\n",
              "│ dense_7 (<span style=\"color: #0087ff; text-decoration-color: #0087ff\">Dense</span>)                      │ (<span style=\"color: #00d7ff; text-decoration-color: #00d7ff\">None</span>, <span style=\"color: #00af00; text-decoration-color: #00af00\">128</span>)                 │          <span style=\"color: #00af00; text-decoration-color: #00af00\">32,896</span> │\n",
              "├──────────────────────────────────────┼─────────────────────────────┼─────────────────┤\n",
              "│ dense_8 (<span style=\"color: #0087ff; text-decoration-color: #0087ff\">Dense</span>)                      │ (<span style=\"color: #00d7ff; text-decoration-color: #00d7ff\">None</span>, <span style=\"color: #00af00; text-decoration-color: #00af00\">1</span>)                   │             <span style=\"color: #00af00; text-decoration-color: #00af00\">129</span> │\n",
              "└──────────────────────────────────────┴─────────────────────────────┴─────────────────┘\n",
              "</pre>\n"
            ]
          },
          "metadata": {}
        },
        {
          "output_type": "display_data",
          "data": {
            "text/plain": [
              "\u001b[1m Total params: \u001b[0m\u001b[38;5;34m91,777\u001b[0m (358.50 KB)\n"
            ],
            "text/html": [
              "<pre style=\"white-space:pre;overflow-x:auto;line-height:normal;font-family:Menlo,'DejaVu Sans Mono',consolas,'Courier New',monospace\"><span style=\"font-weight: bold\"> Total params: </span><span style=\"color: #00af00; text-decoration-color: #00af00\">91,777</span> (358.50 KB)\n",
              "</pre>\n"
            ]
          },
          "metadata": {}
        },
        {
          "output_type": "display_data",
          "data": {
            "text/plain": [
              "\u001b[1m Trainable params: \u001b[0m\u001b[38;5;34m91,777\u001b[0m (358.50 KB)\n"
            ],
            "text/html": [
              "<pre style=\"white-space:pre;overflow-x:auto;line-height:normal;font-family:Menlo,'DejaVu Sans Mono',consolas,'Courier New',monospace\"><span style=\"font-weight: bold\"> Trainable params: </span><span style=\"color: #00af00; text-decoration-color: #00af00\">91,777</span> (358.50 KB)\n",
              "</pre>\n"
            ]
          },
          "metadata": {}
        },
        {
          "output_type": "display_data",
          "data": {
            "text/plain": [
              "\u001b[1m Non-trainable params: \u001b[0m\u001b[38;5;34m0\u001b[0m (0.00 B)\n"
            ],
            "text/html": [
              "<pre style=\"white-space:pre;overflow-x:auto;line-height:normal;font-family:Menlo,'DejaVu Sans Mono',consolas,'Courier New',monospace\"><span style=\"font-weight: bold\"> Non-trainable params: </span><span style=\"color: #00af00; text-decoration-color: #00af00\">0</span> (0.00 B)\n",
              "</pre>\n"
            ]
          },
          "metadata": {}
        },
        {
          "output_type": "stream",
          "name": "stdout",
          "text": [
            "None\n"
          ]
        }
      ]
    },
    {
      "cell_type": "code",
      "source": [
        "# Train the model\n",
        "model.fit(train_X, train_y, epochs=75, batch_size=32, validation_data=(val_X, val_y))  # Increased epochs\n",
        "\n",
        "# Evaluate the model\n",
        "loss = model.evaluate(test_X, test_y, verbose=0)\n",
        "print('Test Loss:', loss)"
      ],
      "metadata": {
        "colab": {
          "base_uri": "https://localhost:8080/"
        },
        "id": "2WcV0eeCh6D6",
        "outputId": "ac44375f-a55c-45a9-e726-ebea36c666a8"
      },
      "execution_count": 71,
      "outputs": [
        {
          "output_type": "stream",
          "name": "stdout",
          "text": [
            "Epoch 1/75\n",
            "\u001b[1m23/23\u001b[0m \u001b[32m━━━━━━━━━━━━━━━━━━━━\u001b[0m\u001b[37m\u001b[0m \u001b[1m0s\u001b[0m 12ms/step - loss: 3.8029e-04 - val_loss: 5.5473e-04\n",
            "Epoch 2/75\n",
            "\u001b[1m23/23\u001b[0m \u001b[32m━━━━━━━━━━━━━━━━━━━━\u001b[0m\u001b[37m\u001b[0m \u001b[1m1s\u001b[0m 11ms/step - loss: 4.8430e-04 - val_loss: 5.8110e-04\n",
            "Epoch 3/75\n",
            "\u001b[1m23/23\u001b[0m \u001b[32m━━━━━━━━━━━━━━━━━━━━\u001b[0m\u001b[37m\u001b[0m \u001b[1m0s\u001b[0m 10ms/step - loss: 3.4678e-04 - val_loss: 5.5850e-04\n",
            "Epoch 4/75\n",
            "\u001b[1m23/23\u001b[0m \u001b[32m━━━━━━━━━━━━━━━━━━━━\u001b[0m\u001b[37m\u001b[0m \u001b[1m0s\u001b[0m 10ms/step - loss: 4.0657e-04 - val_loss: 5.8990e-04\n",
            "Epoch 5/75\n",
            "\u001b[1m23/23\u001b[0m \u001b[32m━━━━━━━━━━━━━━━━━━━━\u001b[0m\u001b[37m\u001b[0m \u001b[1m0s\u001b[0m 8ms/step - loss: 3.9941e-04 - val_loss: 5.7504e-04\n",
            "Epoch 6/75\n",
            "\u001b[1m23/23\u001b[0m \u001b[32m━━━━━━━━━━━━━━━━━━━━\u001b[0m\u001b[37m\u001b[0m \u001b[1m0s\u001b[0m 6ms/step - loss: 4.5521e-04 - val_loss: 6.4085e-04\n",
            "Epoch 7/75\n",
            "\u001b[1m23/23\u001b[0m \u001b[32m━━━━━━━━━━━━━━━━━━━━\u001b[0m\u001b[37m\u001b[0m \u001b[1m0s\u001b[0m 7ms/step - loss: 3.8112e-04 - val_loss: 6.1298e-04\n",
            "Epoch 8/75\n",
            "\u001b[1m23/23\u001b[0m \u001b[32m━━━━━━━━━━━━━━━━━━━━\u001b[0m\u001b[37m\u001b[0m \u001b[1m0s\u001b[0m 5ms/step - loss: 4.1934e-04 - val_loss: 6.3830e-04\n",
            "Epoch 9/75\n",
            "\u001b[1m23/23\u001b[0m \u001b[32m━━━━━━━━━━━━━━━━━━━━\u001b[0m\u001b[37m\u001b[0m \u001b[1m0s\u001b[0m 6ms/step - loss: 3.8245e-04 - val_loss: 5.9787e-04\n",
            "Epoch 10/75\n",
            "\u001b[1m23/23\u001b[0m \u001b[32m━━━━━━━━━━━━━━━━━━━━\u001b[0m\u001b[37m\u001b[0m \u001b[1m0s\u001b[0m 7ms/step - loss: 4.3309e-04 - val_loss: 6.0464e-04\n",
            "Epoch 11/75\n",
            "\u001b[1m23/23\u001b[0m \u001b[32m━━━━━━━━━━━━━━━━━━━━\u001b[0m\u001b[37m\u001b[0m \u001b[1m0s\u001b[0m 6ms/step - loss: 3.6359e-04 - val_loss: 6.0951e-04\n",
            "Epoch 12/75\n",
            "\u001b[1m23/23\u001b[0m \u001b[32m━━━━━━━━━━━━━━━━━━━━\u001b[0m\u001b[37m\u001b[0m \u001b[1m0s\u001b[0m 9ms/step - loss: 3.7724e-04 - val_loss: 5.9889e-04\n",
            "Epoch 13/75\n",
            "\u001b[1m23/23\u001b[0m \u001b[32m━━━━━━━━━━━━━━━━━━━━\u001b[0m\u001b[37m\u001b[0m \u001b[1m0s\u001b[0m 6ms/step - loss: 4.1119e-04 - val_loss: 6.5649e-04\n",
            "Epoch 14/75\n",
            "\u001b[1m23/23\u001b[0m \u001b[32m━━━━━━━━━━━━━━━━━━━━\u001b[0m\u001b[37m\u001b[0m \u001b[1m0s\u001b[0m 7ms/step - loss: 4.2302e-04 - val_loss: 6.6382e-04\n",
            "Epoch 15/75\n",
            "\u001b[1m23/23\u001b[0m \u001b[32m━━━━━━━━━━━━━━━━━━━━\u001b[0m\u001b[37m\u001b[0m \u001b[1m0s\u001b[0m 6ms/step - loss: 3.9520e-04 - val_loss: 6.3066e-04\n",
            "Epoch 16/75\n",
            "\u001b[1m23/23\u001b[0m \u001b[32m━━━━━━━━━━━━━━━━━━━━\u001b[0m\u001b[37m\u001b[0m \u001b[1m0s\u001b[0m 7ms/step - loss: 3.4947e-04 - val_loss: 7.1735e-04\n",
            "Epoch 17/75\n",
            "\u001b[1m23/23\u001b[0m \u001b[32m━━━━━━━━━━━━━━━━━━━━\u001b[0m\u001b[37m\u001b[0m \u001b[1m0s\u001b[0m 6ms/step - loss: 3.2154e-04 - val_loss: 6.2669e-04\n",
            "Epoch 18/75\n",
            "\u001b[1m23/23\u001b[0m \u001b[32m━━━━━━━━━━━━━━━━━━━━\u001b[0m\u001b[37m\u001b[0m \u001b[1m0s\u001b[0m 6ms/step - loss: 3.5629e-04 - val_loss: 6.9481e-04\n",
            "Epoch 19/75\n",
            "\u001b[1m23/23\u001b[0m \u001b[32m━━━━━━━━━━━━━━━━━━━━\u001b[0m\u001b[37m\u001b[0m \u001b[1m0s\u001b[0m 6ms/step - loss: 3.9972e-04 - val_loss: 7.1825e-04\n",
            "Epoch 20/75\n",
            "\u001b[1m23/23\u001b[0m \u001b[32m━━━━━━━━━━━━━━━━━━━━\u001b[0m\u001b[37m\u001b[0m \u001b[1m0s\u001b[0m 7ms/step - loss: 3.3598e-04 - val_loss: 6.7802e-04\n",
            "Epoch 21/75\n",
            "\u001b[1m23/23\u001b[0m \u001b[32m━━━━━━━━━━━━━━━━━━━━\u001b[0m\u001b[37m\u001b[0m \u001b[1m0s\u001b[0m 6ms/step - loss: 3.2963e-04 - val_loss: 6.9324e-04\n",
            "Epoch 22/75\n",
            "\u001b[1m23/23\u001b[0m \u001b[32m━━━━━━━━━━━━━━━━━━━━\u001b[0m\u001b[37m\u001b[0m \u001b[1m0s\u001b[0m 7ms/step - loss: 3.2538e-04 - val_loss: 7.5330e-04\n",
            "Epoch 23/75\n",
            "\u001b[1m23/23\u001b[0m \u001b[32m━━━━━━━━━━━━━━━━━━━━\u001b[0m\u001b[37m\u001b[0m \u001b[1m0s\u001b[0m 6ms/step - loss: 3.8108e-04 - val_loss: 7.2191e-04\n",
            "Epoch 24/75\n",
            "\u001b[1m23/23\u001b[0m \u001b[32m━━━━━━━━━━━━━━━━━━━━\u001b[0m\u001b[37m\u001b[0m \u001b[1m0s\u001b[0m 7ms/step - loss: 3.5462e-04 - val_loss: 6.9857e-04\n",
            "Epoch 25/75\n",
            "\u001b[1m23/23\u001b[0m \u001b[32m━━━━━━━━━━━━━━━━━━━━\u001b[0m\u001b[37m\u001b[0m \u001b[1m0s\u001b[0m 7ms/step - loss: 3.4315e-04 - val_loss: 7.0977e-04\n",
            "Epoch 26/75\n",
            "\u001b[1m23/23\u001b[0m \u001b[32m━━━━━━━━━━━━━━━━━━━━\u001b[0m\u001b[37m\u001b[0m \u001b[1m0s\u001b[0m 6ms/step - loss: 3.2575e-04 - val_loss: 7.1286e-04\n",
            "Epoch 27/75\n",
            "\u001b[1m23/23\u001b[0m \u001b[32m━━━━━━━━━━━━━━━━━━━━\u001b[0m\u001b[37m\u001b[0m \u001b[1m0s\u001b[0m 5ms/step - loss: 3.8064e-04 - val_loss: 7.4584e-04\n",
            "Epoch 28/75\n",
            "\u001b[1m23/23\u001b[0m \u001b[32m━━━━━━━━━━━━━━━━━━━━\u001b[0m\u001b[37m\u001b[0m \u001b[1m0s\u001b[0m 6ms/step - loss: 4.0295e-04 - val_loss: 6.4651e-04\n",
            "Epoch 29/75\n",
            "\u001b[1m23/23\u001b[0m \u001b[32m━━━━━━━━━━━━━━━━━━━━\u001b[0m\u001b[37m\u001b[0m \u001b[1m0s\u001b[0m 6ms/step - loss: 4.7781e-04 - val_loss: 7.4598e-04\n",
            "Epoch 30/75\n",
            "\u001b[1m23/23\u001b[0m \u001b[32m━━━━━━━━━━━━━━━━━━━━\u001b[0m\u001b[37m\u001b[0m \u001b[1m0s\u001b[0m 6ms/step - loss: 3.8131e-04 - val_loss: 7.1557e-04\n",
            "Epoch 31/75\n",
            "\u001b[1m23/23\u001b[0m \u001b[32m━━━━━━━━━━━━━━━━━━━━\u001b[0m\u001b[37m\u001b[0m \u001b[1m0s\u001b[0m 6ms/step - loss: 3.6451e-04 - val_loss: 7.6830e-04\n",
            "Epoch 32/75\n",
            "\u001b[1m23/23\u001b[0m \u001b[32m━━━━━━━━━━━━━━━━━━━━\u001b[0m\u001b[37m\u001b[0m \u001b[1m0s\u001b[0m 6ms/step - loss: 3.2362e-04 - val_loss: 7.1991e-04\n",
            "Epoch 33/75\n",
            "\u001b[1m23/23\u001b[0m \u001b[32m━━━━━━━━━━━━━━━━━━━━\u001b[0m\u001b[37m\u001b[0m \u001b[1m0s\u001b[0m 6ms/step - loss: 4.1859e-04 - val_loss: 7.9477e-04\n",
            "Epoch 34/75\n",
            "\u001b[1m23/23\u001b[0m \u001b[32m━━━━━━━━━━━━━━━━━━━━\u001b[0m\u001b[37m\u001b[0m \u001b[1m0s\u001b[0m 6ms/step - loss: 4.1123e-04 - val_loss: 7.4572e-04\n",
            "Epoch 35/75\n",
            "\u001b[1m23/23\u001b[0m \u001b[32m━━━━━━━━━━━━━━━━━━━━\u001b[0m\u001b[37m\u001b[0m \u001b[1m0s\u001b[0m 8ms/step - loss: 3.9605e-04 - val_loss: 8.2404e-04\n",
            "Epoch 36/75\n",
            "\u001b[1m23/23\u001b[0m \u001b[32m━━━━━━━━━━━━━━━━━━━━\u001b[0m\u001b[37m\u001b[0m \u001b[1m0s\u001b[0m 6ms/step - loss: 4.0296e-04 - val_loss: 7.2715e-04\n",
            "Epoch 37/75\n",
            "\u001b[1m23/23\u001b[0m \u001b[32m━━━━━━━━━━━━━━━━━━━━\u001b[0m\u001b[37m\u001b[0m \u001b[1m0s\u001b[0m 8ms/step - loss: 3.5934e-04 - val_loss: 7.9554e-04\n",
            "Epoch 38/75\n",
            "\u001b[1m23/23\u001b[0m \u001b[32m━━━━━━━━━━━━━━━━━━━━\u001b[0m\u001b[37m\u001b[0m \u001b[1m0s\u001b[0m 6ms/step - loss: 3.4733e-04 - val_loss: 7.7358e-04\n",
            "Epoch 39/75\n",
            "\u001b[1m23/23\u001b[0m \u001b[32m━━━━━━━━━━━━━━━━━━━━\u001b[0m\u001b[37m\u001b[0m \u001b[1m0s\u001b[0m 5ms/step - loss: 3.9545e-04 - val_loss: 7.7477e-04\n",
            "Epoch 40/75\n",
            "\u001b[1m23/23\u001b[0m \u001b[32m━━━━━━━━━━━━━━━━━━━━\u001b[0m\u001b[37m\u001b[0m \u001b[1m0s\u001b[0m 6ms/step - loss: 3.9164e-04 - val_loss: 7.2517e-04\n",
            "Epoch 41/75\n",
            "\u001b[1m23/23\u001b[0m \u001b[32m━━━━━━━━━━━━━━━━━━━━\u001b[0m\u001b[37m\u001b[0m \u001b[1m0s\u001b[0m 5ms/step - loss: 4.4188e-04 - val_loss: 7.8245e-04\n",
            "Epoch 42/75\n",
            "\u001b[1m23/23\u001b[0m \u001b[32m━━━━━━━━━━━━━━━━━━━━\u001b[0m\u001b[37m\u001b[0m \u001b[1m0s\u001b[0m 6ms/step - loss: 3.4570e-04 - val_loss: 7.9405e-04\n",
            "Epoch 43/75\n",
            "\u001b[1m23/23\u001b[0m \u001b[32m━━━━━━━━━━━━━━━━━━━━\u001b[0m\u001b[37m\u001b[0m \u001b[1m0s\u001b[0m 6ms/step - loss: 3.6676e-04 - val_loss: 7.3107e-04\n",
            "Epoch 44/75\n",
            "\u001b[1m23/23\u001b[0m \u001b[32m━━━━━━━━━━━━━━━━━━━━\u001b[0m\u001b[37m\u001b[0m \u001b[1m0s\u001b[0m 5ms/step - loss: 3.4129e-04 - val_loss: 7.2183e-04\n",
            "Epoch 45/75\n",
            "\u001b[1m23/23\u001b[0m \u001b[32m━━━━━━━━━━━━━━━━━━━━\u001b[0m\u001b[37m\u001b[0m \u001b[1m0s\u001b[0m 6ms/step - loss: 4.0304e-04 - val_loss: 7.6447e-04\n",
            "Epoch 46/75\n",
            "\u001b[1m23/23\u001b[0m \u001b[32m━━━━━━━━━━━━━━━━━━━━\u001b[0m\u001b[37m\u001b[0m \u001b[1m0s\u001b[0m 5ms/step - loss: 4.0024e-04 - val_loss: 7.3779e-04\n",
            "Epoch 47/75\n",
            "\u001b[1m23/23\u001b[0m \u001b[32m━━━━━━━━━━━━━━━━━━━━\u001b[0m\u001b[37m\u001b[0m \u001b[1m0s\u001b[0m 6ms/step - loss: 4.4094e-04 - val_loss: 7.7700e-04\n",
            "Epoch 48/75\n",
            "\u001b[1m23/23\u001b[0m \u001b[32m━━━━━━━━━━━━━━━━━━━━\u001b[0m\u001b[37m\u001b[0m \u001b[1m0s\u001b[0m 8ms/step - loss: 4.1015e-04 - val_loss: 7.6476e-04\n",
            "Epoch 49/75\n",
            "\u001b[1m23/23\u001b[0m \u001b[32m━━━━━━━━━━━━━━━━━━━━\u001b[0m\u001b[37m\u001b[0m \u001b[1m0s\u001b[0m 9ms/step - loss: 3.3028e-04 - val_loss: 7.6907e-04\n",
            "Epoch 50/75\n",
            "\u001b[1m23/23\u001b[0m \u001b[32m━━━━━━━━━━━━━━━━━━━━\u001b[0m\u001b[37m\u001b[0m \u001b[1m0s\u001b[0m 10ms/step - loss: 3.5427e-04 - val_loss: 7.5679e-04\n",
            "Epoch 51/75\n",
            "\u001b[1m23/23\u001b[0m \u001b[32m━━━━━━━━━━━━━━━━━━━━\u001b[0m\u001b[37m\u001b[0m \u001b[1m0s\u001b[0m 11ms/step - loss: 3.3436e-04 - val_loss: 7.4269e-04\n",
            "Epoch 52/75\n",
            "\u001b[1m23/23\u001b[0m \u001b[32m━━━━━━━━━━━━━━━━━━━━\u001b[0m\u001b[37m\u001b[0m \u001b[1m0s\u001b[0m 9ms/step - loss: 3.4985e-04 - val_loss: 7.6946e-04\n",
            "Epoch 53/75\n",
            "\u001b[1m23/23\u001b[0m \u001b[32m━━━━━━━━━━━━━━━━━━━━\u001b[0m\u001b[37m\u001b[0m \u001b[1m0s\u001b[0m 14ms/step - loss: 3.7827e-04 - val_loss: 8.2477e-04\n",
            "Epoch 54/75\n",
            "\u001b[1m23/23\u001b[0m \u001b[32m━━━━━━━━━━━━━━━━━━━━\u001b[0m\u001b[37m\u001b[0m \u001b[1m0s\u001b[0m 12ms/step - loss: 3.7557e-04 - val_loss: 8.6670e-04\n",
            "Epoch 55/75\n",
            "\u001b[1m23/23\u001b[0m \u001b[32m━━━━━━━━━━━━━━━━━━━━\u001b[0m\u001b[37m\u001b[0m \u001b[1m0s\u001b[0m 12ms/step - loss: 3.4677e-04 - val_loss: 7.7748e-04\n",
            "Epoch 56/75\n",
            "\u001b[1m23/23\u001b[0m \u001b[32m━━━━━━━━━━━━━━━━━━━━\u001b[0m\u001b[37m\u001b[0m \u001b[1m0s\u001b[0m 13ms/step - loss: 3.5083e-04 - val_loss: 7.7126e-04\n",
            "Epoch 57/75\n",
            "\u001b[1m23/23\u001b[0m \u001b[32m━━━━━━━━━━━━━━━━━━━━\u001b[0m\u001b[37m\u001b[0m \u001b[1m1s\u001b[0m 11ms/step - loss: 3.0004e-04 - val_loss: 9.2580e-04\n",
            "Epoch 58/75\n",
            "\u001b[1m23/23\u001b[0m \u001b[32m━━━━━━━━━━━━━━━━━━━━\u001b[0m\u001b[37m\u001b[0m \u001b[1m0s\u001b[0m 5ms/step - loss: 3.5057e-04 - val_loss: 8.6243e-04\n",
            "Epoch 59/75\n",
            "\u001b[1m23/23\u001b[0m \u001b[32m━━━━━━━━━━━━━━━━━━━━\u001b[0m\u001b[37m\u001b[0m \u001b[1m0s\u001b[0m 6ms/step - loss: 3.9881e-04 - val_loss: 9.8589e-04\n",
            "Epoch 60/75\n",
            "\u001b[1m23/23\u001b[0m \u001b[32m━━━━━━━━━━━━━━━━━━━━\u001b[0m\u001b[37m\u001b[0m \u001b[1m0s\u001b[0m 7ms/step - loss: 4.0478e-04 - val_loss: 8.1642e-04\n",
            "Epoch 61/75\n",
            "\u001b[1m23/23\u001b[0m \u001b[32m━━━━━━━━━━━━━━━━━━━━\u001b[0m\u001b[37m\u001b[0m \u001b[1m0s\u001b[0m 6ms/step - loss: 3.5048e-04 - val_loss: 8.8700e-04\n",
            "Epoch 62/75\n",
            "\u001b[1m23/23\u001b[0m \u001b[32m━━━━━━━━━━━━━━━━━━━━\u001b[0m\u001b[37m\u001b[0m \u001b[1m0s\u001b[0m 7ms/step - loss: 2.9457e-04 - val_loss: 9.0627e-04\n",
            "Epoch 63/75\n",
            "\u001b[1m23/23\u001b[0m \u001b[32m━━━━━━━━━━━━━━━━━━━━\u001b[0m\u001b[37m\u001b[0m \u001b[1m0s\u001b[0m 8ms/step - loss: 3.4867e-04 - val_loss: 9.3104e-04\n",
            "Epoch 64/75\n",
            "\u001b[1m23/23\u001b[0m \u001b[32m━━━━━━━━━━━━━━━━━━━━\u001b[0m\u001b[37m\u001b[0m \u001b[1m0s\u001b[0m 6ms/step - loss: 3.5258e-04 - val_loss: 8.2925e-04\n",
            "Epoch 65/75\n",
            "\u001b[1m23/23\u001b[0m \u001b[32m━━━━━━━━━━━━━━━━━━━━\u001b[0m\u001b[37m\u001b[0m \u001b[1m0s\u001b[0m 7ms/step - loss: 3.1124e-04 - val_loss: 8.6257e-04\n",
            "Epoch 66/75\n",
            "\u001b[1m23/23\u001b[0m \u001b[32m━━━━━━━━━━━━━━━━━━━━\u001b[0m\u001b[37m\u001b[0m \u001b[1m0s\u001b[0m 6ms/step - loss: 3.4174e-04 - val_loss: 8.7706e-04\n",
            "Epoch 67/75\n",
            "\u001b[1m23/23\u001b[0m \u001b[32m━━━━━━━━━━━━━━━━━━━━\u001b[0m\u001b[37m\u001b[0m \u001b[1m0s\u001b[0m 6ms/step - loss: 3.1674e-04 - val_loss: 9.7364e-04\n",
            "Epoch 68/75\n",
            "\u001b[1m23/23\u001b[0m \u001b[32m━━━━━━━━━━━━━━━━━━━━\u001b[0m\u001b[37m\u001b[0m \u001b[1m0s\u001b[0m 5ms/step - loss: 3.7025e-04 - val_loss: 9.6730e-04\n",
            "Epoch 69/75\n",
            "\u001b[1m23/23\u001b[0m \u001b[32m━━━━━━━━━━━━━━━━━━━━\u001b[0m\u001b[37m\u001b[0m \u001b[1m0s\u001b[0m 6ms/step - loss: 4.3714e-04 - val_loss: 8.4246e-04\n",
            "Epoch 70/75\n",
            "\u001b[1m23/23\u001b[0m \u001b[32m━━━━━━━━━━━━━━━━━━━━\u001b[0m\u001b[37m\u001b[0m \u001b[1m0s\u001b[0m 6ms/step - loss: 3.9914e-04 - val_loss: 9.0902e-04\n",
            "Epoch 71/75\n",
            "\u001b[1m23/23\u001b[0m \u001b[32m━━━━━━━━━━━━━━━━━━━━\u001b[0m\u001b[37m\u001b[0m \u001b[1m0s\u001b[0m 5ms/step - loss: 3.2508e-04 - val_loss: 8.5226e-04\n",
            "Epoch 72/75\n",
            "\u001b[1m23/23\u001b[0m \u001b[32m━━━━━━━━━━━━━━━━━━━━\u001b[0m\u001b[37m\u001b[0m \u001b[1m0s\u001b[0m 6ms/step - loss: 2.9756e-04 - val_loss: 9.7312e-04\n",
            "Epoch 73/75\n",
            "\u001b[1m23/23\u001b[0m \u001b[32m━━━━━━━━━━━━━━━━━━━━\u001b[0m\u001b[37m\u001b[0m \u001b[1m0s\u001b[0m 6ms/step - loss: 3.5295e-04 - val_loss: 9.3559e-04\n",
            "Epoch 74/75\n",
            "\u001b[1m23/23\u001b[0m \u001b[32m━━━━━━━━━━━━━━━━━━━━\u001b[0m\u001b[37m\u001b[0m \u001b[1m0s\u001b[0m 5ms/step - loss: 3.2113e-04 - val_loss: 9.4127e-04\n",
            "Epoch 75/75\n",
            "\u001b[1m23/23\u001b[0m \u001b[32m━━━━━━━━━━━━━━━━━━━━\u001b[0m\u001b[37m\u001b[0m \u001b[1m0s\u001b[0m 6ms/step - loss: 3.5045e-04 - val_loss: 9.6671e-04\n",
            "Test Loss: 0.00022134988103061914\n"
          ]
        }
      ]
    },
    {
      "cell_type": "code",
      "source": [
        "# Make predictions\n",
        "predictions = model.predict(test_X)\n",
        "\n",
        "if SAVE_MODEL: model.save(\"cnn_model.keras\")\n",
        "\n",
        "print(predictions[:5])\n",
        "print(test_y[:5])\n",
        "\n",
        "# Inverse transform the predictions to get the original scale\n",
        "# Use the 'Close' feature scaler to inverse transform the predictions\n",
        "predictions = close_scaler.inverse_transform(predictions)\n",
        "test_y = close_scaler.inverse_transform(test_y.reshape(-1, 1))"
      ],
      "metadata": {
        "colab": {
          "base_uri": "https://localhost:8080/"
        },
        "id": "WRUWpuDmhIQD",
        "outputId": "52fe3dd0-7d43-4d0f-ee0e-135cab171c9c"
      },
      "execution_count": 72,
      "outputs": [
        {
          "output_type": "stream",
          "name": "stdout",
          "text": [
            "\u001b[1m8/8\u001b[0m \u001b[32m━━━━━━━━━━━━━━━━━━━━\u001b[0m\u001b[37m\u001b[0m \u001b[1m0s\u001b[0m 2ms/step \n",
            "[[0.43644917]\n",
            " [0.4410003 ]\n",
            " [0.45237884]\n",
            " [0.44990277]\n",
            " [0.44500756]]\n",
            "[[0.48046018]\n",
            " [0.47520351]\n",
            " [0.46607191]\n",
            " [0.457481  ]\n",
            " [0.45594906]]\n"
          ]
        }
      ]
    },
    {
      "cell_type": "markdown",
      "source": [
        "### To be improved:\n",
        "\n",
        "Currently, you can easily notice that the x-axis does not have the most informative label... What on Earth does _\"Days since 2021-01-01\"_ possibly mean! And honestly, we are not even sure of the date!\n",
        "\n",
        "The cause of the issue has been diagnosed and identified to be the `train_test_split` function since it returns an `numpy ndarray` from a `pandas df`, effectively getting rid of the `\"Date\"` index.\n",
        "\n",
        "> Before the script is released to final usage and integrated with the rest of the system, the problem should be addressed for consistent evaluation metrics."
      ],
      "metadata": {
        "id": "Nzwi6g3ykRTz"
      }
    },
    {
      "cell_type": "code",
      "source": [
        "plt.plot(test_y, label='Actual')\n",
        "plt.xlabel('Days since test period start')\n",
        "plt.ylabel('Close Price')\n",
        "plt.title('Stock Price Prediction')\n",
        "plt.plot(predictions, label='Predicted')\n",
        "plt.legend()\n",
        "plt.savefig('stock_price_prediction.png')\n",
        "plt.ion()\n",
        "# plt.pause(100)"
      ],
      "metadata": {
        "colab": {
          "base_uri": "https://localhost:8080/",
          "height": 489
        },
        "id": "34CM52UIc7NU",
        "outputId": "a032c048-cb88-4161-d227-bcc2a733a218"
      },
      "execution_count": 73,
      "outputs": [
        {
          "output_type": "execute_result",
          "data": {
            "text/plain": [
              "<contextlib.ExitStack at 0x7a15b5abe200>"
            ]
          },
          "metadata": {},
          "execution_count": 73
        },
        {
          "output_type": "display_data",
          "data": {
            "text/plain": [
              "<Figure size 640x480 with 1 Axes>"
            ],
            "image/png": "[encoded data removed]"
          },
          "metadata": {}
        }
      ]
    },
    {
      "cell_type": "code",
      "source": [],
      "metadata": {
        "id": "j4Ntnl1-gbEI"
      },
      "execution_count": null,
      "outputs": []
    }
  ]
}